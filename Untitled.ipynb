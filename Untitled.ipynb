{
 "cells": [
  {
   "cell_type": "code",
   "execution_count": 1,
   "metadata": {},
   "outputs": [],
   "source": [
    "import pandas as pd\n",
    "import numpy as np\n",
    "import matplotlib.pyplot as plt\n",
    "import seaborn as sns\n",
    "import warnings\n",
    "warnings.filterwarnings(action='ignore')"
   ]
  },
  {
   "cell_type": "code",
   "execution_count": 2,
   "metadata": {},
   "outputs": [],
   "source": [
    "import statsmodels.api as sm\n",
    "import statsmodels.formula.api as smf\n",
    "from sklearn.model_selection import train_test_split\n",
    "from sklearn.preprocessing import StandardScaler\n",
    "from scipy import stats\n",
    "from sklearn.preprocessing import LabelBinarizer\n",
    "from sklearn.metrics import r2_score, mean_squared_error"
   ]
  },
  {
   "cell_type": "code",
   "execution_count": 3,
   "metadata": {},
   "outputs": [
    {
     "data": {
      "text/html": [
       "<div>\n",
       "<style scoped>\n",
       "    .dataframe tbody tr th:only-of-type {\n",
       "        vertical-align: middle;\n",
       "    }\n",
       "\n",
       "    .dataframe tbody tr th {\n",
       "        vertical-align: top;\n",
       "    }\n",
       "\n",
       "    .dataframe thead th {\n",
       "        text-align: right;\n",
       "    }\n",
       "</style>\n",
       "<table border=\"1\" class=\"dataframe\">\n",
       "  <thead>\n",
       "    <tr style=\"text-align: right;\">\n",
       "      <th></th>\n",
       "      <th>Mean of the integrated profile</th>\n",
       "      <th>Standard deviation of the integrated profile</th>\n",
       "      <th>Excess kurtosis of the integrated profile</th>\n",
       "      <th>Skewness of the integrated profile</th>\n",
       "      <th>Mean of the DM-SNR curve</th>\n",
       "      <th>Standard deviation of the DM-SNR curve</th>\n",
       "      <th>Excess kurtosis of the DM-SNR curve</th>\n",
       "      <th>Skewness of the DM-SNR curve</th>\n",
       "      <th>target_class</th>\n",
       "    </tr>\n",
       "  </thead>\n",
       "  <tbody>\n",
       "    <tr>\n",
       "      <td>0</td>\n",
       "      <td>140.562500</td>\n",
       "      <td>55.683782</td>\n",
       "      <td>-0.234571</td>\n",
       "      <td>-0.699648</td>\n",
       "      <td>3.199833</td>\n",
       "      <td>19.110426</td>\n",
       "      <td>7.975532</td>\n",
       "      <td>74.242225</td>\n",
       "      <td>0</td>\n",
       "    </tr>\n",
       "    <tr>\n",
       "      <td>1</td>\n",
       "      <td>102.507812</td>\n",
       "      <td>58.882430</td>\n",
       "      <td>0.465318</td>\n",
       "      <td>-0.515088</td>\n",
       "      <td>1.677258</td>\n",
       "      <td>14.860146</td>\n",
       "      <td>10.576487</td>\n",
       "      <td>127.393580</td>\n",
       "      <td>0</td>\n",
       "    </tr>\n",
       "    <tr>\n",
       "      <td>2</td>\n",
       "      <td>103.015625</td>\n",
       "      <td>39.341649</td>\n",
       "      <td>0.323328</td>\n",
       "      <td>1.051164</td>\n",
       "      <td>3.121237</td>\n",
       "      <td>21.744669</td>\n",
       "      <td>7.735822</td>\n",
       "      <td>63.171909</td>\n",
       "      <td>0</td>\n",
       "    </tr>\n",
       "    <tr>\n",
       "      <td>3</td>\n",
       "      <td>136.750000</td>\n",
       "      <td>57.178449</td>\n",
       "      <td>-0.068415</td>\n",
       "      <td>-0.636238</td>\n",
       "      <td>3.642977</td>\n",
       "      <td>20.959280</td>\n",
       "      <td>6.896499</td>\n",
       "      <td>53.593661</td>\n",
       "      <td>0</td>\n",
       "    </tr>\n",
       "    <tr>\n",
       "      <td>4</td>\n",
       "      <td>88.726562</td>\n",
       "      <td>40.672225</td>\n",
       "      <td>0.600866</td>\n",
       "      <td>1.123492</td>\n",
       "      <td>1.178930</td>\n",
       "      <td>11.468720</td>\n",
       "      <td>14.269573</td>\n",
       "      <td>252.567306</td>\n",
       "      <td>0</td>\n",
       "    </tr>\n",
       "  </tbody>\n",
       "</table>\n",
       "</div>"
      ],
      "text/plain": [
       "    Mean of the integrated profile  \\\n",
       "0                       140.562500   \n",
       "1                       102.507812   \n",
       "2                       103.015625   \n",
       "3                       136.750000   \n",
       "4                        88.726562   \n",
       "\n",
       "    Standard deviation of the integrated profile  \\\n",
       "0                                      55.683782   \n",
       "1                                      58.882430   \n",
       "2                                      39.341649   \n",
       "3                                      57.178449   \n",
       "4                                      40.672225   \n",
       "\n",
       "    Excess kurtosis of the integrated profile  \\\n",
       "0                                   -0.234571   \n",
       "1                                    0.465318   \n",
       "2                                    0.323328   \n",
       "3                                   -0.068415   \n",
       "4                                    0.600866   \n",
       "\n",
       "    Skewness of the integrated profile   Mean of the DM-SNR curve  \\\n",
       "0                            -0.699648                   3.199833   \n",
       "1                            -0.515088                   1.677258   \n",
       "2                             1.051164                   3.121237   \n",
       "3                            -0.636238                   3.642977   \n",
       "4                             1.123492                   1.178930   \n",
       "\n",
       "    Standard deviation of the DM-SNR curve  \\\n",
       "0                                19.110426   \n",
       "1                                14.860146   \n",
       "2                                21.744669   \n",
       "3                                20.959280   \n",
       "4                                11.468720   \n",
       "\n",
       "    Excess kurtosis of the DM-SNR curve   Skewness of the DM-SNR curve  \\\n",
       "0                              7.975532                      74.242225   \n",
       "1                             10.576487                     127.393580   \n",
       "2                              7.735822                      63.171909   \n",
       "3                              6.896499                      53.593661   \n",
       "4                             14.269573                     252.567306   \n",
       "\n",
       "   target_class  \n",
       "0             0  \n",
       "1             0  \n",
       "2             0  \n",
       "3             0  \n",
       "4             0  "
      ]
     },
     "execution_count": 3,
     "metadata": {},
     "output_type": "execute_result"
    }
   ],
   "source": [
    "df = pd.read_csv('pulsar_stars.csv')\n",
    "df.head()"
   ]
  },
  {
   "cell_type": "code",
   "execution_count": 4,
   "metadata": {},
   "outputs": [
    {
     "name": "stdout",
     "output_type": "stream",
     "text": [
      "(17898, 9)\n",
      "Index([' Mean of the integrated profile',\n",
      "       ' Standard deviation of the integrated profile',\n",
      "       ' Excess kurtosis of the integrated profile',\n",
      "       ' Skewness of the integrated profile', ' Mean of the DM-SNR curve',\n",
      "       ' Standard deviation of the DM-SNR curve',\n",
      "       ' Excess kurtosis of the DM-SNR curve', ' Skewness of the DM-SNR curve',\n",
      "       'target_class'],\n",
      "      dtype='object')\n",
      " Mean of the integrated profile                  0\n",
      " Standard deviation of the integrated profile    0\n",
      " Excess kurtosis of the integrated profile       0\n",
      " Skewness of the integrated profile              0\n",
      " Mean of the DM-SNR curve                        0\n",
      " Standard deviation of the DM-SNR curve          0\n",
      " Excess kurtosis of the DM-SNR curve             0\n",
      " Skewness of the DM-SNR curve                    0\n",
      "target_class                                     0\n",
      "dtype: int64\n",
      "0    16259\n",
      "1     1639\n",
      "Name: target_class, dtype: int64\n"
     ]
    }
   ],
   "source": [
    "print(df.shape)\n",
    "print(df.columns)\n",
    "\n",
    "print(df.isna().sum())\n",
    "print(df.target_class.value_counts())"
   ]
  },
  {
   "cell_type": "code",
   "execution_count": 5,
   "metadata": {},
   "outputs": [],
   "source": [
    "df.rename(columns={' Mean of the integrated profile': 'profile_mean', ' Standard deviation of the integrated profile': 'profile_std', \n",
    "                   ' Excess kurtosis of the integrated profile': 'profile_kurtosis', ' Skewness of the integrated profile': 'profile_skew',\n",
    "                   ' Mean of the DM-SNR curve': 'curve_mean', ' Standard deviation of the DM-SNR curve': 'curve_std',\n",
    "                   ' Excess kurtosis of the DM-SNR curve': 'curve_kurtosis', ' Skewness of the DM-SNR curve': 'curve_skew'}, inplace=True)"
   ]
  },
  {
   "cell_type": "code",
   "execution_count": 6,
   "metadata": {},
   "outputs": [
    {
     "data": {
      "text/plain": [
       "Index(['profile_mean', 'profile_std', 'profile_kurtosis', 'profile_skew',\n",
       "       'curve_mean', 'curve_std', 'curve_kurtosis', 'curve_skew',\n",
       "       'target_class'],\n",
       "      dtype='object')"
      ]
     },
     "execution_count": 6,
     "metadata": {},
     "output_type": "execute_result"
    }
   ],
   "source": [
    "df.columns"
   ]
  },
  {
   "cell_type": "code",
   "execution_count": 7,
   "metadata": {},
   "outputs": [],
   "source": [
    "df.dropna(inplace=True)"
   ]
  },
  {
   "cell_type": "code",
   "execution_count": 8,
   "metadata": {},
   "outputs": [],
   "source": [
    "target = df['target_class']\n",
    "independent = df[['profile_mean', 'profile_std', 'profile_kurtosis', 'profile_skew', 'curve_mean', 'curve_std', 'curve_kurtosis', \n",
    "                  'curve_skew']]\n"
   ]
  },
  {
   "cell_type": "code",
   "execution_count": 9,
   "metadata": {},
   "outputs": [],
   "source": [
    "columns = ['profile_mean', 'profile_std', 'profile_kurtosis', 'profile_skew', 'curve_mean', 'curve_std', 'curve_kurtosis', \n",
    "                  'curve_skew', 'target_class']"
   ]
  },
  {
   "cell_type": "code",
   "execution_count": 63,
   "metadata": {},
   "outputs": [
    {
     "data": {
      "text/html": [
       "<div>\n",
       "<style scoped>\n",
       "    .dataframe tbody tr th:only-of-type {\n",
       "        vertical-align: middle;\n",
       "    }\n",
       "\n",
       "    .dataframe tbody tr th {\n",
       "        vertical-align: top;\n",
       "    }\n",
       "\n",
       "    .dataframe thead th {\n",
       "        text-align: right;\n",
       "    }\n",
       "</style>\n",
       "<table border=\"1\" class=\"dataframe\">\n",
       "  <thead>\n",
       "    <tr style=\"text-align: right;\">\n",
       "      <th></th>\n",
       "      <th>profile_mean</th>\n",
       "      <th>profile_std</th>\n",
       "      <th>profile_kurtosis</th>\n",
       "      <th>profile_skew</th>\n",
       "      <th>curve_mean</th>\n",
       "      <th>curve_std</th>\n",
       "      <th>curve_kurtosis</th>\n",
       "      <th>curve_skew</th>\n",
       "      <th>target_class</th>\n",
       "    </tr>\n",
       "  </thead>\n",
       "  <tbody>\n",
       "    <tr>\n",
       "      <td>profile_mean</td>\n",
       "      <td>1.000000</td>\n",
       "      <td>0.547137</td>\n",
       "      <td>-0.873898</td>\n",
       "      <td>-0.738775</td>\n",
       "      <td>-0.298841</td>\n",
       "      <td>-0.307016</td>\n",
       "      <td>0.234331</td>\n",
       "      <td>0.144033</td>\n",
       "      <td>-0.673181</td>\n",
       "    </tr>\n",
       "    <tr>\n",
       "      <td>profile_std</td>\n",
       "      <td>0.547137</td>\n",
       "      <td>1.000000</td>\n",
       "      <td>-0.521435</td>\n",
       "      <td>-0.539793</td>\n",
       "      <td>0.006869</td>\n",
       "      <td>-0.047632</td>\n",
       "      <td>0.029429</td>\n",
       "      <td>0.027691</td>\n",
       "      <td>-0.363708</td>\n",
       "    </tr>\n",
       "    <tr>\n",
       "      <td>profile_kurtosis</td>\n",
       "      <td>-0.873898</td>\n",
       "      <td>-0.521435</td>\n",
       "      <td>1.000000</td>\n",
       "      <td>0.945729</td>\n",
       "      <td>0.414368</td>\n",
       "      <td>0.432880</td>\n",
       "      <td>-0.341209</td>\n",
       "      <td>-0.214491</td>\n",
       "      <td>0.791591</td>\n",
       "    </tr>\n",
       "    <tr>\n",
       "      <td>profile_skew</td>\n",
       "      <td>-0.738775</td>\n",
       "      <td>-0.539793</td>\n",
       "      <td>0.945729</td>\n",
       "      <td>1.000000</td>\n",
       "      <td>0.412056</td>\n",
       "      <td>0.415140</td>\n",
       "      <td>-0.328843</td>\n",
       "      <td>-0.204782</td>\n",
       "      <td>0.709528</td>\n",
       "    </tr>\n",
       "    <tr>\n",
       "      <td>curve_mean</td>\n",
       "      <td>-0.298841</td>\n",
       "      <td>0.006869</td>\n",
       "      <td>0.414368</td>\n",
       "      <td>0.412056</td>\n",
       "      <td>1.000000</td>\n",
       "      <td>0.796555</td>\n",
       "      <td>-0.615971</td>\n",
       "      <td>-0.354269</td>\n",
       "      <td>0.400876</td>\n",
       "    </tr>\n",
       "    <tr>\n",
       "      <td>curve_std</td>\n",
       "      <td>-0.307016</td>\n",
       "      <td>-0.047632</td>\n",
       "      <td>0.432880</td>\n",
       "      <td>0.415140</td>\n",
       "      <td>0.796555</td>\n",
       "      <td>1.000000</td>\n",
       "      <td>-0.809786</td>\n",
       "      <td>-0.575800</td>\n",
       "      <td>0.491535</td>\n",
       "    </tr>\n",
       "    <tr>\n",
       "      <td>curve_kurtosis</td>\n",
       "      <td>0.234331</td>\n",
       "      <td>0.029429</td>\n",
       "      <td>-0.341209</td>\n",
       "      <td>-0.328843</td>\n",
       "      <td>-0.615971</td>\n",
       "      <td>-0.809786</td>\n",
       "      <td>1.000000</td>\n",
       "      <td>0.923743</td>\n",
       "      <td>-0.390816</td>\n",
       "    </tr>\n",
       "    <tr>\n",
       "      <td>curve_skew</td>\n",
       "      <td>0.144033</td>\n",
       "      <td>0.027691</td>\n",
       "      <td>-0.214491</td>\n",
       "      <td>-0.204782</td>\n",
       "      <td>-0.354269</td>\n",
       "      <td>-0.575800</td>\n",
       "      <td>0.923743</td>\n",
       "      <td>1.000000</td>\n",
       "      <td>-0.259117</td>\n",
       "    </tr>\n",
       "    <tr>\n",
       "      <td>target_class</td>\n",
       "      <td>-0.673181</td>\n",
       "      <td>-0.363708</td>\n",
       "      <td>0.791591</td>\n",
       "      <td>0.709528</td>\n",
       "      <td>0.400876</td>\n",
       "      <td>0.491535</td>\n",
       "      <td>-0.390816</td>\n",
       "      <td>-0.259117</td>\n",
       "      <td>1.000000</td>\n",
       "    </tr>\n",
       "  </tbody>\n",
       "</table>\n",
       "</div>"
      ],
      "text/plain": [
       "                  profile_mean  profile_std  profile_kurtosis  profile_skew  \\\n",
       "profile_mean          1.000000     0.547137         -0.873898     -0.738775   \n",
       "profile_std           0.547137     1.000000         -0.521435     -0.539793   \n",
       "profile_kurtosis     -0.873898    -0.521435          1.000000      0.945729   \n",
       "profile_skew         -0.738775    -0.539793          0.945729      1.000000   \n",
       "curve_mean           -0.298841     0.006869          0.414368      0.412056   \n",
       "curve_std            -0.307016    -0.047632          0.432880      0.415140   \n",
       "curve_kurtosis        0.234331     0.029429         -0.341209     -0.328843   \n",
       "curve_skew            0.144033     0.027691         -0.214491     -0.204782   \n",
       "target_class         -0.673181    -0.363708          0.791591      0.709528   \n",
       "\n",
       "                  curve_mean  curve_std  curve_kurtosis  curve_skew  \\\n",
       "profile_mean       -0.298841  -0.307016        0.234331    0.144033   \n",
       "profile_std         0.006869  -0.047632        0.029429    0.027691   \n",
       "profile_kurtosis    0.414368   0.432880       -0.341209   -0.214491   \n",
       "profile_skew        0.412056   0.415140       -0.328843   -0.204782   \n",
       "curve_mean          1.000000   0.796555       -0.615971   -0.354269   \n",
       "curve_std           0.796555   1.000000       -0.809786   -0.575800   \n",
       "curve_kurtosis     -0.615971  -0.809786        1.000000    0.923743   \n",
       "curve_skew         -0.354269  -0.575800        0.923743    1.000000   \n",
       "target_class        0.400876   0.491535       -0.390816   -0.259117   \n",
       "\n",
       "                  target_class  \n",
       "profile_mean         -0.673181  \n",
       "profile_std          -0.363708  \n",
       "profile_kurtosis      0.791591  \n",
       "profile_skew          0.709528  \n",
       "curve_mean            0.400876  \n",
       "curve_std             0.491535  \n",
       "curve_kurtosis       -0.390816  \n",
       "curve_skew           -0.259117  \n",
       "target_class          1.000000  "
      ]
     },
     "execution_count": 63,
     "metadata": {},
     "output_type": "execute_result"
    }
   ],
   "source": [
    "df.corr()"
   ]
  },
  {
   "cell_type": "code",
   "execution_count": 10,
   "metadata": {},
   "outputs": [
    {
     "data": {
      "text/html": [
       "<div>\n",
       "<style scoped>\n",
       "    .dataframe tbody tr th:only-of-type {\n",
       "        vertical-align: middle;\n",
       "    }\n",
       "\n",
       "    .dataframe tbody tr th {\n",
       "        vertical-align: top;\n",
       "    }\n",
       "\n",
       "    .dataframe thead th {\n",
       "        text-align: right;\n",
       "    }\n",
       "</style>\n",
       "<table border=\"1\" class=\"dataframe\">\n",
       "  <thead>\n",
       "    <tr style=\"text-align: right;\">\n",
       "      <th></th>\n",
       "      <th>profile_mean</th>\n",
       "      <th>profile_std</th>\n",
       "      <th>profile_kurtosis</th>\n",
       "      <th>profile_skew</th>\n",
       "      <th>curve_mean</th>\n",
       "      <th>curve_std</th>\n",
       "      <th>curve_kurtosis</th>\n",
       "      <th>curve_skew</th>\n",
       "    </tr>\n",
       "  </thead>\n",
       "  <tbody>\n",
       "    <tr>\n",
       "      <td>profile_mean</td>\n",
       "      <td>1.000000</td>\n",
       "      <td>0.547137</td>\n",
       "      <td>-0.873898</td>\n",
       "      <td>-0.738775</td>\n",
       "      <td>-0.298841</td>\n",
       "      <td>-0.307016</td>\n",
       "      <td>0.234331</td>\n",
       "      <td>0.144033</td>\n",
       "    </tr>\n",
       "    <tr>\n",
       "      <td>profile_std</td>\n",
       "      <td>0.547137</td>\n",
       "      <td>1.000000</td>\n",
       "      <td>-0.521435</td>\n",
       "      <td>-0.539793</td>\n",
       "      <td>0.006869</td>\n",
       "      <td>-0.047632</td>\n",
       "      <td>0.029429</td>\n",
       "      <td>0.027691</td>\n",
       "    </tr>\n",
       "    <tr>\n",
       "      <td>profile_kurtosis</td>\n",
       "      <td>-0.873898</td>\n",
       "      <td>-0.521435</td>\n",
       "      <td>1.000000</td>\n",
       "      <td>0.945729</td>\n",
       "      <td>0.414368</td>\n",
       "      <td>0.432880</td>\n",
       "      <td>-0.341209</td>\n",
       "      <td>-0.214491</td>\n",
       "    </tr>\n",
       "    <tr>\n",
       "      <td>profile_skew</td>\n",
       "      <td>-0.738775</td>\n",
       "      <td>-0.539793</td>\n",
       "      <td>0.945729</td>\n",
       "      <td>1.000000</td>\n",
       "      <td>0.412056</td>\n",
       "      <td>0.415140</td>\n",
       "      <td>-0.328843</td>\n",
       "      <td>-0.204782</td>\n",
       "    </tr>\n",
       "    <tr>\n",
       "      <td>curve_mean</td>\n",
       "      <td>-0.298841</td>\n",
       "      <td>0.006869</td>\n",
       "      <td>0.414368</td>\n",
       "      <td>0.412056</td>\n",
       "      <td>1.000000</td>\n",
       "      <td>0.796555</td>\n",
       "      <td>-0.615971</td>\n",
       "      <td>-0.354269</td>\n",
       "    </tr>\n",
       "    <tr>\n",
       "      <td>curve_std</td>\n",
       "      <td>-0.307016</td>\n",
       "      <td>-0.047632</td>\n",
       "      <td>0.432880</td>\n",
       "      <td>0.415140</td>\n",
       "      <td>0.796555</td>\n",
       "      <td>1.000000</td>\n",
       "      <td>-0.809786</td>\n",
       "      <td>-0.575800</td>\n",
       "    </tr>\n",
       "    <tr>\n",
       "      <td>curve_kurtosis</td>\n",
       "      <td>0.234331</td>\n",
       "      <td>0.029429</td>\n",
       "      <td>-0.341209</td>\n",
       "      <td>-0.328843</td>\n",
       "      <td>-0.615971</td>\n",
       "      <td>-0.809786</td>\n",
       "      <td>1.000000</td>\n",
       "      <td>0.923743</td>\n",
       "    </tr>\n",
       "    <tr>\n",
       "      <td>curve_skew</td>\n",
       "      <td>0.144033</td>\n",
       "      <td>0.027691</td>\n",
       "      <td>-0.214491</td>\n",
       "      <td>-0.204782</td>\n",
       "      <td>-0.354269</td>\n",
       "      <td>-0.575800</td>\n",
       "      <td>0.923743</td>\n",
       "      <td>1.000000</td>\n",
       "    </tr>\n",
       "  </tbody>\n",
       "</table>\n",
       "</div>"
      ],
      "text/plain": [
       "                  profile_mean  profile_std  profile_kurtosis  profile_skew  \\\n",
       "profile_mean          1.000000     0.547137         -0.873898     -0.738775   \n",
       "profile_std           0.547137     1.000000         -0.521435     -0.539793   \n",
       "profile_kurtosis     -0.873898    -0.521435          1.000000      0.945729   \n",
       "profile_skew         -0.738775    -0.539793          0.945729      1.000000   \n",
       "curve_mean           -0.298841     0.006869          0.414368      0.412056   \n",
       "curve_std            -0.307016    -0.047632          0.432880      0.415140   \n",
       "curve_kurtosis        0.234331     0.029429         -0.341209     -0.328843   \n",
       "curve_skew            0.144033     0.027691         -0.214491     -0.204782   \n",
       "\n",
       "                  curve_mean  curve_std  curve_kurtosis  curve_skew  \n",
       "profile_mean       -0.298841  -0.307016        0.234331    0.144033  \n",
       "profile_std         0.006869  -0.047632        0.029429    0.027691  \n",
       "profile_kurtosis    0.414368   0.432880       -0.341209   -0.214491  \n",
       "profile_skew        0.412056   0.415140       -0.328843   -0.204782  \n",
       "curve_mean          1.000000   0.796555       -0.615971   -0.354269  \n",
       "curve_std           0.796555   1.000000       -0.809786   -0.575800  \n",
       "curve_kurtosis     -0.615971  -0.809786        1.000000    0.923743  \n",
       "curve_skew         -0.354269  -0.575800        0.923743    1.000000  "
      ]
     },
     "execution_count": 10,
     "metadata": {},
     "output_type": "execute_result"
    }
   ],
   "source": [
    "independent.corr()"
   ]
  },
  {
   "cell_type": "code",
   "execution_count": 11,
   "metadata": {},
   "outputs": [],
   "source": [
    "X_train, X_test, y_train, y_test = train_test_split(independent, target, test_size=.2, random_state=63)"
   ]
  },
  {
   "cell_type": "code",
   "execution_count": 12,
   "metadata": {},
   "outputs": [],
   "source": [
    "from sklearn.feature_selection import RFE\n",
    "from sklearn.linear_model import LogisticRegression"
   ]
  },
  {
   "cell_type": "code",
   "execution_count": 13,
   "metadata": {},
   "outputs": [],
   "source": [
    "logreg = LogisticRegression()\n",
    "rfe = RFE(logreg, 1)"
   ]
  },
  {
   "cell_type": "markdown",
   "metadata": {},
   "source": [
    "RFE = recursive feature elimination\n",
    "\n",
    "number refers to how many features are selected; 'true' means that the given feature is in the top n best features for predicting"
   ]
  },
  {
   "cell_type": "code",
   "execution_count": 14,
   "metadata": {},
   "outputs": [
    {
     "name": "stdout",
     "output_type": "stream",
     "text": [
      "[False False  True False False False False False]\n",
      "[7 6 1 2 5 4 3 8]\n"
     ]
    }
   ],
   "source": [
    "rfe = rfe.fit(X_train, y_train.values.ravel())\n",
    "print(rfe.support_)\n",
    "print(rfe.ranking_)"
   ]
  },
  {
   "cell_type": "code",
   "execution_count": 15,
   "metadata": {},
   "outputs": [
    {
     "data": {
      "text/plain": [
       "Index(['profile_mean', 'profile_std', 'profile_kurtosis', 'profile_skew',\n",
       "       'curve_mean', 'curve_std', 'curve_kurtosis', 'curve_skew'],\n",
       "      dtype='object')"
      ]
     },
     "execution_count": 15,
     "metadata": {},
     "output_type": "execute_result"
    }
   ],
   "source": [
    "X_train.columns"
   ]
  },
  {
   "cell_type": "code",
   "execution_count": 16,
   "metadata": {},
   "outputs": [],
   "source": [
    "pulsar = logreg.fit(X_train, y_train)"
   ]
  },
  {
   "cell_type": "code",
   "execution_count": 17,
   "metadata": {},
   "outputs": [],
   "source": [
    "from imblearn.over_sampling import SMOTE"
   ]
  },
  {
   "cell_type": "code",
   "execution_count": 18,
   "metadata": {},
   "outputs": [],
   "source": [
    "os = SMOTE(random_state=63)"
   ]
  },
  {
   "cell_type": "code",
   "execution_count": 19,
   "metadata": {},
   "outputs": [],
   "source": [
    "os_data_X, os_data_y = os.fit_sample(X_train, y_train)"
   ]
  },
  {
   "cell_type": "code",
   "execution_count": 20,
   "metadata": {},
   "outputs": [],
   "source": [
    "os_data_X = pd.DataFrame(data=os_data_X, columns=columns)\n",
    "os_data_y_df = os_data_y.to_frame()"
   ]
  },
  {
   "cell_type": "code",
   "execution_count": 21,
   "metadata": {},
   "outputs": [
    {
     "name": "stdout",
     "output_type": "stream",
     "text": [
      "length of data is  26026\n",
      "number of pulsar stars  13013\n",
      "number of non-pulsar stars  13013\n"
     ]
    }
   ],
   "source": [
    "print('length of data is ', len(os_data_X))\n",
    "print('number of pulsar stars ', len(os_data_y_df[os_data_y_df['target_class'] == 1]))\n",
    "print('number of non-pulsar stars ', len(os_data_y_df[os_data_y_df['target_class'] == 0]))"
   ]
  },
  {
   "cell_type": "code",
   "execution_count": 22,
   "metadata": {},
   "outputs": [
    {
     "data": {
      "text/html": [
       "<div>\n",
       "<style scoped>\n",
       "    .dataframe tbody tr th:only-of-type {\n",
       "        vertical-align: middle;\n",
       "    }\n",
       "\n",
       "    .dataframe tbody tr th {\n",
       "        vertical-align: top;\n",
       "    }\n",
       "\n",
       "    .dataframe thead th {\n",
       "        text-align: right;\n",
       "    }\n",
       "</style>\n",
       "<table border=\"1\" class=\"dataframe\">\n",
       "  <thead>\n",
       "    <tr style=\"text-align: right;\">\n",
       "      <th></th>\n",
       "      <th>profile_mean</th>\n",
       "      <th>profile_std</th>\n",
       "      <th>profile_kurtosis</th>\n",
       "      <th>profile_skew</th>\n",
       "      <th>curve_mean</th>\n",
       "      <th>curve_std</th>\n",
       "      <th>curve_kurtosis</th>\n",
       "      <th>curve_skew</th>\n",
       "      <th>target_class</th>\n",
       "    </tr>\n",
       "  </thead>\n",
       "  <tbody>\n",
       "    <tr>\n",
       "      <td>0</td>\n",
       "      <td>96.218750</td>\n",
       "      <td>39.023418</td>\n",
       "      <td>0.534250</td>\n",
       "      <td>2.316462</td>\n",
       "      <td>3.563545</td>\n",
       "      <td>17.570835</td>\n",
       "      <td>6.725585</td>\n",
       "      <td>58.744100</td>\n",
       "      <td>NaN</td>\n",
       "    </tr>\n",
       "    <tr>\n",
       "      <td>1</td>\n",
       "      <td>104.445312</td>\n",
       "      <td>36.515581</td>\n",
       "      <td>0.377501</td>\n",
       "      <td>1.957043</td>\n",
       "      <td>21.659699</td>\n",
       "      <td>54.396541</td>\n",
       "      <td>2.352631</td>\n",
       "      <td>4.120040</td>\n",
       "      <td>NaN</td>\n",
       "    </tr>\n",
       "    <tr>\n",
       "      <td>2</td>\n",
       "      <td>122.390625</td>\n",
       "      <td>47.279130</td>\n",
       "      <td>0.155002</td>\n",
       "      <td>-0.040776</td>\n",
       "      <td>1.974916</td>\n",
       "      <td>13.868869</td>\n",
       "      <td>9.809231</td>\n",
       "      <td>124.788152</td>\n",
       "      <td>NaN</td>\n",
       "    </tr>\n",
       "    <tr>\n",
       "      <td>3</td>\n",
       "      <td>142.687500</td>\n",
       "      <td>45.056518</td>\n",
       "      <td>0.236937</td>\n",
       "      <td>0.192325</td>\n",
       "      <td>3.551839</td>\n",
       "      <td>17.688634</td>\n",
       "      <td>7.088426</td>\n",
       "      <td>63.113269</td>\n",
       "      <td>NaN</td>\n",
       "    </tr>\n",
       "    <tr>\n",
       "      <td>4</td>\n",
       "      <td>128.937500</td>\n",
       "      <td>46.286430</td>\n",
       "      <td>0.148740</td>\n",
       "      <td>-0.119908</td>\n",
       "      <td>1.875418</td>\n",
       "      <td>15.345531</td>\n",
       "      <td>11.042478</td>\n",
       "      <td>144.021603</td>\n",
       "      <td>NaN</td>\n",
       "    </tr>\n",
       "  </tbody>\n",
       "</table>\n",
       "</div>"
      ],
      "text/plain": [
       "   profile_mean  profile_std  profile_kurtosis  profile_skew  curve_mean  \\\n",
       "0     96.218750    39.023418          0.534250      2.316462    3.563545   \n",
       "1    104.445312    36.515581          0.377501      1.957043   21.659699   \n",
       "2    122.390625    47.279130          0.155002     -0.040776    1.974916   \n",
       "3    142.687500    45.056518          0.236937      0.192325    3.551839   \n",
       "4    128.937500    46.286430          0.148740     -0.119908    1.875418   \n",
       "\n",
       "   curve_std  curve_kurtosis  curve_skew  target_class  \n",
       "0  17.570835        6.725585   58.744100           NaN  \n",
       "1  54.396541        2.352631    4.120040           NaN  \n",
       "2  13.868869        9.809231  124.788152           NaN  \n",
       "3  17.688634        7.088426   63.113269           NaN  \n",
       "4  15.345531       11.042478  144.021603           NaN  "
      ]
     },
     "execution_count": 22,
     "metadata": {},
     "output_type": "execute_result"
    }
   ],
   "source": [
    "os_data_X.head()"
   ]
  },
  {
   "cell_type": "code",
   "execution_count": 23,
   "metadata": {},
   "outputs": [],
   "source": [
    "os_data_X.drop(columns='target_class', inplace=True)"
   ]
  },
  {
   "cell_type": "code",
   "execution_count": 24,
   "metadata": {},
   "outputs": [
    {
     "name": "stdout",
     "output_type": "stream",
     "text": [
      "Optimization terminated successfully.\n",
      "         Current function value: 0.177185\n",
      "         Iterations 10\n",
      "                         Results: Logit\n",
      "=================================================================\n",
      "Model:               Logit            Pseudo R-squared: 0.744    \n",
      "Dependent Variable:  target_class     AIC:              9238.8508\n",
      "Date:                2020-01-13 10:13 BIC:              9304.1856\n",
      "No. Observations:    26026            Log-Likelihood:   -4611.4  \n",
      "Df Model:            7                LL-Null:          -18040.  \n",
      "Df Residuals:        26018            LLR p-value:      0.0000   \n",
      "Converged:           1.0000           Scale:            1.0000   \n",
      "No. Iterations:      10.0000                                     \n",
      "-----------------------------------------------------------------\n",
      "                  Coef.  Std.Err.    z     P>|z|   [0.025  0.975]\n",
      "-----------------------------------------------------------------\n",
      "profile_mean      0.0048   0.0025   1.8854 0.0594 -0.0002  0.0097\n",
      "profile_std      -0.0765   0.0053 -14.3766 0.0000 -0.0869 -0.0661\n",
      "profile_kurtosis  6.1164   0.1482  41.2673 0.0000  5.8260  6.4069\n",
      "profile_skew     -0.6834   0.0197 -34.7078 0.0000 -0.7220 -0.6448\n",
      "curve_mean       -0.0237   0.0017 -13.6184 0.0000 -0.0271 -0.0203\n",
      "curve_std         0.0302   0.0035   8.6676 0.0000  0.0234  0.0370\n",
      "curve_kurtosis   -0.2503   0.0306  -8.1848 0.0000 -0.3103 -0.1904\n",
      "curve_skew        0.0063   0.0011   5.9529 0.0000  0.0042  0.0083\n",
      "=================================================================\n",
      "\n"
     ]
    }
   ],
   "source": [
    "logit_model = sm.Logit(os_data_y_df, os_data_X)\n",
    "result = logit_model.fit()\n",
    "print(result.summary2())"
   ]
  },
  {
   "cell_type": "code",
   "execution_count": 25,
   "metadata": {},
   "outputs": [],
   "source": [
    "os_data_X_final = os_data_X.drop(columns='profile_mean')"
   ]
  },
  {
   "cell_type": "code",
   "execution_count": 26,
   "metadata": {},
   "outputs": [
    {
     "name": "stdout",
     "output_type": "stream",
     "text": [
      "Optimization terminated successfully.\n",
      "         Current function value: 0.177253\n",
      "         Iterations 10\n",
      "                         Results: Logit\n",
      "=================================================================\n",
      "Model:               Logit            Pseudo R-squared: 0.744    \n",
      "Dependent Variable:  target_class     AIC:              9240.3954\n",
      "Date:                2020-01-13 10:13 BIC:              9297.5633\n",
      "No. Observations:    26026            Log-Likelihood:   -4613.2  \n",
      "Df Model:            6                LL-Null:          -18040.  \n",
      "Df Residuals:        26019            LLR p-value:      0.0000   \n",
      "Converged:           1.0000           Scale:            1.0000   \n",
      "No. Iterations:      10.0000                                     \n",
      "-----------------------------------------------------------------\n",
      "                  Coef.  Std.Err.    z     P>|z|   [0.025  0.975]\n",
      "-----------------------------------------------------------------\n",
      "profile_std      -0.0699   0.0040 -17.5625 0.0000 -0.0777 -0.0621\n",
      "profile_kurtosis  5.9407   0.1142  52.0254 0.0000  5.7169  6.1645\n",
      "profile_skew     -0.6656   0.0173 -38.4532 0.0000 -0.6995 -0.6316\n",
      "curve_mean       -0.0243   0.0017 -14.2327 0.0000 -0.0277 -0.0210\n",
      "curve_std         0.0340   0.0028  11.9934 0.0000  0.0285  0.0396\n",
      "curve_kurtosis   -0.2181   0.0254  -8.6006 0.0000 -0.2678 -0.1684\n",
      "curve_skew        0.0054   0.0009   5.6968 0.0000  0.0035  0.0072\n",
      "=================================================================\n",
      "\n"
     ]
    }
   ],
   "source": [
    "logit_model_final = sm.Logit(os_data_y_df, os_data_X_final)\n",
    "result_final = logit_model_final.fit()\n",
    "print(result_final.summary2())"
   ]
  },
  {
   "cell_type": "code",
   "execution_count": 30,
   "metadata": {},
   "outputs": [],
   "source": [
    "X_test_final = X_test.drop(columns='profile_mean')"
   ]
  },
  {
   "cell_type": "code",
   "execution_count": 54,
   "metadata": {},
   "outputs": [
    {
     "name": "stdout",
     "output_type": "stream",
     "text": [
      "logistic regression 1:  0.9681564245810056\n"
     ]
    }
   ],
   "source": [
    "log_reg = LogisticRegression()\n",
    "log_reg.fit(os_data_X_final, os_data_y_df)\n",
    "y_predict = log_reg.predict(X_test_final)\n",
    "print('logistic regression 1: ', str(log_reg.score(X_test_final, y_test)))"
   ]
  },
  {
   "cell_type": "code",
   "execution_count": 55,
   "metadata": {},
   "outputs": [],
   "source": [
    "from sklearn.metrics import confusion_matrix"
   ]
  },
  {
   "cell_type": "code",
   "execution_count": 60,
   "metadata": {},
   "outputs": [
    {
     "data": {
      "text/plain": [
       "0    3246\n",
       "1     334\n",
       "Name: target_class, dtype: int64"
      ]
     },
     "execution_count": 60,
     "metadata": {},
     "output_type": "execute_result"
    }
   ],
   "source": [
    "y_test.value_counts()"
   ]
  },
  {
   "cell_type": "code",
   "execution_count": 62,
   "metadata": {},
   "outputs": [
    {
     "data": {
      "text/plain": [
       "0    3190\n",
       "1     390\n",
       "dtype: int64"
      ]
     },
     "execution_count": 62,
     "metadata": {},
     "output_type": "execute_result"
    }
   ],
   "source": [
    "y_predict_series = pd.Series(y_predict)\n",
    "y_predict_series.value_counts()"
   ]
  },
  {
   "cell_type": "code",
   "execution_count": 56,
   "metadata": {},
   "outputs": [
    {
     "name": "stdout",
     "output_type": "stream",
     "text": [
      "[[3161   85]\n",
      " [  29  305]]\n"
     ]
    }
   ],
   "source": [
    "confusion_matrix = confusion_matrix(y_test, y_predict)\n",
    "print(confusion_matrix)"
   ]
  },
  {
   "cell_type": "code",
   "execution_count": 57,
   "metadata": {},
   "outputs": [],
   "source": [
    "from sklearn.metrics import classification_report"
   ]
  },
  {
   "cell_type": "code",
   "execution_count": 58,
   "metadata": {},
   "outputs": [
    {
     "name": "stdout",
     "output_type": "stream",
     "text": [
      "              precision    recall  f1-score   support\n",
      "\n",
      "           0       0.99      0.97      0.98      3246\n",
      "           1       0.78      0.91      0.84       334\n",
      "\n",
      "    accuracy                           0.97      3580\n",
      "   macro avg       0.89      0.94      0.91      3580\n",
      "weighted avg       0.97      0.97      0.97      3580\n",
      "\n"
     ]
    }
   ],
   "source": [
    "print(classification_report(y_test, y_predict))"
   ]
  },
  {
   "cell_type": "code",
   "execution_count": 36,
   "metadata": {},
   "outputs": [],
   "source": [
    "from sklearn.metrics import roc_auc_score, roc_curve"
   ]
  },
  {
   "cell_type": "code",
   "execution_count": 37,
   "metadata": {},
   "outputs": [
    {
     "data": {
      "image/png": "[encoded data removed]",
      "text/plain": [
       "<Figure size 432x288 with 1 Axes>"
      ]
     },
     "metadata": {
      "needs_background": "light"
     },
     "output_type": "display_data"
    }
   ],
   "source": [
    "logit_roc_auc = roc_auc_score(y_test, logreg.predict(X_test))\n",
    "fpr, tpr, thresholds = roc_curve(y_test, logreg.predict_proba(X_test)[:,1])\n",
    "plt.figure()\n",
    "plt.plot(fpr, tpr, label='Logistic Regression (area = %.2f)' % logit_roc_auc)\n",
    "plt.plot([0, 1], [0, 1], 'r--')\n",
    "plt.xlim([0.0, 1.0])\n",
    "plt.ylim([0.0, 1.05])\n",
    "plt.xlabel('False Positive Rate')\n",
    "plt.ylabel('True Positive Rate')\n",
    "plt.legend(loc='lower right')\n",
    "plt.title('Pulsar Star Prediction Positive Rate: False vs. True')\n",
    "plt.show()"
   ]
  },
  {
   "cell_type": "code",
   "execution_count": null,
   "metadata": {},
   "outputs": [],
   "source": []
  }
 ],
 "metadata": {
  "kernelspec": {
   "display_name": "Python 3",
   "language": "python",
   "name": "python3"
  },
  "language_info": {
   "codemirror_mode": {
    "name": "ipython",
    "version": 3
   },
   "file_extension": ".py",
   "mimetype": "text/x-python",
   "name": "python",
   "nbconvert_exporter": "python",
   "pygments_lexer": "ipython3",
   "version": "3.7.4"
  }
 },
 "nbformat": 4,
 "nbformat_minor": 4
}
